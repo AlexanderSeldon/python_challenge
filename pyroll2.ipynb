{
 "cells": [
  {
   "cell_type": "markdown",
   "metadata": {},
   "source": []
  },
  {
   "cell_type": "markdown",
   "metadata": {},
   "source": [
    "PyPoll Instructions\n",
    "In this Challenge, you are tasked with helping a small, rural town modernize its vote-counting process.\n",
    "\n",
    "You will be given a set of poll data called election_data.csv. The dataset is composed of three columns: \"Voter ID\", \"County\", and \"Candidate\". Your task is to create a Python script that analyzes the votes and calculates each of the following values:\n",
    "\n",
    "The total number of votes cast\n",
    "\n",
    "A complete list of candidates who received votes\n",
    "\n",
    "The percentage of votes each candidate won\n",
    "\n",
    "The total number of votes each candidate won\n",
    "\n",
    "The winner of the election based on popular vote\n",
    "\n",
    "Your analysis should align with the following results:\n",
    "\n",
    "Election Results\n",
    "-------------------------\n",
    "Total Votes: 369711\n",
    "-------------------------\n",
    "Charles Casper Stockham: 23.049% (85213)\n",
    "Diana DeGette: 73.812% (272892)\n",
    "Raymon Anthony Doane: 3.139% (11606)\n",
    "-------------------------\n",
    "Winner: Diana DeGette\n",
    "-------------------------\n",
    "In addition, your final script should both print the analysis to the terminal and export a text file with the results."
   ]
  },
  {
   "cell_type": "code",
   "execution_count": 35,
   "metadata": {},
   "outputs": [],
   "source": [
    "# Dependencies\n",
    "import csv\n",
    "import os"
   ]
  },
  {
   "cell_type": "code",
   "execution_count": 43,
   "metadata": {},
   "outputs": [
    {
     "name": "stdout",
     "output_type": "stream",
     "text": [
      "Election Results\n",
      "-------------------------\n",
      "Total Votes: 369711\n",
      "-------------------------\n",
      "-------------------------\n",
      "Winner: Diana DeGette\n",
      "-------------------------\n",
      "\n"
     ]
    }
   ],
   "source": [
    "import csv\n",
    "import os\n",
    "# Construct file paths for input CSV file and output text file\n",
    "file_to_load = os.path.join(\"PyPoll\\Resources\", \"election_data.csv\")\n",
    "file_to_output = os.path.join(\"PyPoll\\Resources\", \"election_analysis.txt\")\n",
    "# Variables to store the PyPoll data\n",
    "total_number_votes_cast = 0\n",
    "candidates_total_number_votes = {}\n",
    "popular_vote_winner = \"\"\n",
    "# A list to store the names of the candidates\n",
    "candidates_names = [\"Charles Casper Stockham\", \"Diana DeGette\", \"Raymon Anthony Doane\"]\n",
    "with open(file_to_load) as election_data:\n",
    "    # Create a CSV reader object\n",
    "    reader = csv.reader(election_data)\n",
    "    # Skip header row\n",
    "    header = next(reader)\n",
    "    # Iterate over each row in the CSV file\n",
    "    for row in reader:\n",
    "        total_number_votes_cast += 1\n",
    "        candidate_name = row[2]\n",
    "        # Update the vote count for the candidate in the candidates_total_number_votes dictionary\n",
    "        if candidate_name in candidates_total_number_votes:\n",
    "            candidates_total_number_votes[candidate_name] += 1\n",
    "        else:\n",
    "            candidates_total_number_votes[candidate_name] = 1\n",
    "# Find the popular vote winner\n",
    "most_votes = 0\n",
    "for candidate, votes in candidates_total_number_votes.items():\n",
    "    if votes > most_votes:\n",
    "        most_votes = votes\n",
    "        popular_vote_winner = candidate\n",
    "# Calculate the percentage of votes for each candidate\n",
    "percentage_vote_each_candidate = {candidate: (votes / total_number_votes_cast) * 100 for candidate, votes in candidates_total_number_votes.items()}\n",
    "# Write the analysis to the output text file\n",
    "with open(file_to_output, \"w\") as file:\n",
    "    file.write(\"Election Results\\n\")\n",
    "    file.write(\"-------------------------\\n\")\n",
    "    file.write(f\"Total Votes: {total_number_votes_cast}\\n\")\n",
    "    file.write(\"-------------------------\\n\")\n",
    "    for candidate, votes in candidates_total_number_votes.items():\n",
    "        percentage_of_vote = percentage_vote_each_candidate[candidate]\n",
    "        file.write(f\"{candidate}: {percentage_of_vote:.3f}% ({votes})\\n\")\n",
    "    file.write(\"-------------------------\\n\")\n",
    "    file.write(f\"Winner: {popular_vote_winner}\\n\")\n",
    "    file.write(\"-------------------------\\n\")\n",
    "\n",
    "\n",
    "\n",
    "output = (\n",
    "    f\"Election Results\\n\"\n",
    "    f\"-------------------------\\n\"\n",
    "    f\"Total Votes: {total_number_votes_cast}\\n\"\n",
    "    f\"-------------------------\\n\"\n",
    "    f\"-------------------------\\n\"\n",
    "    f\"Winner: {popular_vote_winner}\\n\"\n",
    "    f\"-------------------------\\n\")\n",
    "\n",
    "print(output)\n",
    "\n",
    "with open(file_to_output, \"w\") as txt_file:\n",
    " txt_file.write(output)\n",
    "\n",
    "\n",
    "\n",
    "\n",
    "\n",
    "\n",
    "\n"
   ]
  },
  {
   "cell_type": "code",
   "execution_count": 39,
   "metadata": {},
   "outputs": [
    {
     "data": {
      "text/plain": [
       "'c:\\\\Users\\\\Alexander (A.J.)\\\\Desktop\\\\python_challenge'"
      ]
     },
     "execution_count": 39,
     "metadata": {},
     "output_type": "execute_result"
    }
   ],
   "source": [
    "pwd"
   ]
  }
 ],
 "metadata": {
  "kernelspec": {
   "display_name": "Python 3",
   "language": "python",
   "name": "python3"
  },
  "language_info": {
   "codemirror_mode": {
    "name": "ipython",
    "version": 3
   },
   "file_extension": ".py",
   "mimetype": "text/x-python",
   "name": "python",
   "nbconvert_exporter": "python",
   "pygments_lexer": "ipython3",
   "version": "3.11.4"
  }
 },
 "nbformat": 4,
 "nbformat_minor": 2
}
